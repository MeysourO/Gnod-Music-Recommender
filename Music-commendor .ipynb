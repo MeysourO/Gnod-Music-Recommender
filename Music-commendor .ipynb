{
 "cells": [
  {
   "cell_type": "markdown",
   "id": "a125a79a",
   "metadata": {},
   "source": [
    "# Music Recommendor \n"
   ]
  },
  {
   "cell_type": "raw",
   "id": "839d2f82",
   "metadata": {},
   "source": [
    "Uploading our libraries "
   ]
  },
  {
   "cell_type": "code",
   "execution_count": 3,
   "id": "fb656b73",
   "metadata": {},
   "outputs": [],
   "source": [
    "from bs4 import BeautifulSoup\n",
    "import requests\n",
    "import pandas as pd\n",
    "import pickle \n",
    "import random\n",
    "import spotipy\n",
    "from spotipy.oauth2 import SpotifyClientCredentials\n",
    "import pandas as pd\n",
    "import numpy as np\n",
    "from sklearn.cluster import KMeans\n",
    "from sklearn import cluster, datasets\n",
    "from sklearn.preprocessing import StandardScaler\n",
    "\n",
    "from matplotlib.lines import Line2D"
   ]
  },
  {
   "cell_type": "raw",
   "id": "11c2918b",
   "metadata": {},
   "source": [
    "Unpickeling our data "
   ]
  },
  {
   "cell_type": "code",
   "execution_count": 11,
   "id": "86f2ad87",
   "metadata": {},
   "outputs": [],
   "source": [
    "kmeans = pickle.load(open('model.p', 'rb'))\n",
    "transformer = pickle.load(open('transformer.p','rb'))"
   ]
  },
  {
   "cell_type": "code",
   "execution_count": 15,
   "id": "63647985",
   "metadata": {},
   "outputs": [],
   "source": [
    "top100 = pd.read_csv('top100.csv')\n",
    "Song_cluster = pd.read_csv('Song_cluster.csv')\n",
    "Audio_features = pd.read_csv('Audio_features.csv')"
   ]
  },
  {
   "cell_type": "raw",
   "id": "7dcb0615",
   "metadata": {},
   "source": [
    "Spotify Authentification"
   ]
  },
  {
   "cell_type": "code",
   "execution_count": 19,
   "id": "39f7168c",
   "metadata": {},
   "outputs": [
    {
     "data": {
      "text/plain": [
       "{'cid': '0c5b3b62ebe84fe5982f4181fcd53d2a',\n",
       " 'csecret': '5b700b767ae04a02ab242ccf58fe93c7'}"
      ]
     },
     "execution_count": 19,
     "metadata": {},
     "output_type": "execute_result"
    }
   ],
   "source": [
    "secrets_file = open(\"secrets.txt\",\"r\")\n",
    "string = secrets_file.read()\n",
    "string\n",
    "string.split('\\n')\n",
    "secrets_dict={}\n",
    "for line in string.split('\\n'):\n",
    "    if len(line) > 0:\n",
    "        secrets_dict[line.split(':')[0]]=line.split(':')[1].strip()\n",
    "\n",
    "secrets_dict"
   ]
  },
  {
   "cell_type": "code",
   "execution_count": 20,
   "id": "c6375ec1",
   "metadata": {},
   "outputs": [],
   "source": [
    "import spotipy\n",
    "from spotipy.oauth2 import SpotifyClientCredentials\n",
    "\n",
    "#Initialize SpotiPy with user credentials\n",
    "sp = spotipy.Spotify(auth_manager=SpotifyClientCredentials(client_id=secrets_dict['cid'],\n",
    "                                                           client_secret=secrets_dict['csecret']))"
   ]
  },
  {
   "cell_type": "raw",
   "id": "44b60981",
   "metadata": {},
   "source": [
    "Recommendor Functions \n"
   ]
  },
  {
   "cell_type": "code",
   "execution_count": 33,
   "id": "3590c3dd",
   "metadata": {},
   "outputs": [],
   "source": [
    "def search_track(sp, song_title):\n",
    "    track = sp.search(q=song_title)\n",
    "    track_uri = [track['tracks']['items'][0]['uri']]\n",
    "    return track_uri\n",
    "\n",
    "def get_audio_features(sp, track_uri):\n",
    "    audio_features = sp.audio_features(track_uri)\n",
    "    return audio_features\n",
    "\n",
    "def create_audio_features_df(audio_features, transformer):\n",
    "    audio_features_df = pd.DataFrame(audio_features)\n",
    "    audio_feats = audio_features_df.select_dtypes(include='number')\n",
    "    transformed_audio_feats = pd.DataFrame(transformer.transform(audio_feats), columns=audio_feats.columns)\n",
    "    return transformed_audio_feats\n",
    "\n",
    "def predict_track_cluster(kmeans, audio_feats):\n",
    "    track_cluster = kmeans.predict(audio_feats)\n",
    "    return track_cluster\n",
    "\n",
    "def display_recommendations(df, track_cluster):\n",
    "    rec = df[(df['cluster'] == track_cluster[0])].sample().reset_index(drop=True)\n",
    "        #display(rec[['Track','Artist']])\n",
    "        \n",
    "    print('My recommendation is '+ str(rec['Track'][0]) + 'from the artist ' + str(rec['Artist'][0]))\n",
    "     \n"
   ]
  },
  {
   "cell_type": "raw",
   "id": "091e4e96",
   "metadata": {},
   "source": [
    "Music recommendor "
   ]
  },
  {
   "cell_type": "code",
   "execution_count": 38,
   "id": "9a52c495",
   "metadata": {},
   "outputs": [
    {
     "name": "stdout",
     "output_type": "stream",
     "text": [
      "Enter the song title: Flowers\n"
     ]
    }
   ],
   "source": [
    "song_title = input(\"Enter the song title: \")\n"
   ]
  },
  {
   "cell_type": "code",
   "execution_count": 39,
   "id": "facf7248",
   "metadata": {},
   "outputs": [
    {
     "name": "stdout",
     "output_type": "stream",
     "text": [
      "This is a Hit now! You might like: One Thing At A Time\n"
     ]
    }
   ],
   "source": [
    "x = random.randint(0,100)\n",
    "# check if the song is in the DataFrame\n",
    "if song_title in top100['title'].values:\n",
    "    # if the song is in the DataFrame, recommend a different song\n",
    "    recommended_song = top100.loc[top100['title'] != song_title, 'title'].iloc[x]\n",
    "    print(\"This is a Hit now! You might like:\", recommended_song)\n",
    "    \n",
    "else:\n",
    "    track_uri = search_track(sp, \"song_title\")\n",
    "    audio_features = get_audio_features(sp, track_uri)\n",
    "    transformed_audio_feats = create_audio_features_df(audio_features, transformer)\n",
    "    track_cluster = predict_track_cluster(kmeans, transformed_audio_feats)\n",
    "    display_recommendations(Song_cluster, track_cluster)\n"
   ]
  },
  {
   "cell_type": "code",
   "execution_count": null,
   "id": "a8267f3a",
   "metadata": {},
   "outputs": [],
   "source": []
  }
 ],
 "metadata": {
  "kernelspec": {
   "display_name": "Python 3 (ipykernel)",
   "language": "python",
   "name": "python3"
  },
  "language_info": {
   "codemirror_mode": {
    "name": "ipython",
    "version": 3
   },
   "file_extension": ".py",
   "mimetype": "text/x-python",
   "name": "python",
   "nbconvert_exporter": "python",
   "pygments_lexer": "ipython3",
   "version": "3.9.13"
  }
 },
 "nbformat": 4,
 "nbformat_minor": 5
}
